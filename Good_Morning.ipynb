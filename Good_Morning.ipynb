{
  "nbformat": 4,
  "nbformat_minor": 0,
  "metadata": {
    "colab": {
      "name": "Good Morning.ipynb",
      "version": "0.3.2",
      "provenance": []
    },
    "kernelspec": {
      "name": "python3",
      "display_name": "Python 3"
    }
  },
  "cells": [
    {
      "cell_type": "markdown",
      "metadata": {
        "id": "view-in-github",
        "colab_type": "text"
      },
      "source": [
        "[View in Colaboratory](https://colab.research.google.com/github/HK-Zhang/Grains/blob/master/Good_Morning.ipynb)"
      ]
    },
    {
      "metadata": {
        "id": "EsyaKPMFtZRo",
        "colab_type": "code",
        "colab": {}
      },
      "cell_type": "code",
      "source": [
        "a = 17\n",
        "b = 5\n",
        "c = a - b\n",
        "print(c)"
      ],
      "execution_count": 0,
      "outputs": []
    }
  ]
}